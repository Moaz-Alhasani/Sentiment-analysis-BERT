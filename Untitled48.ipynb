{
  "cells": [
    {
      "cell_type": "markdown",
      "metadata": {
        "id": "view-in-github",
        "colab_type": "text"
      },
      "source": [
        "<a href=\"https://colab.research.google.com/github/Moaz-Alhasani/Sentiment-analysis-BERT/blob/main/Untitled48.ipynb\" target=\"_parent\"><img src=\"https://colab.research.google.com/assets/colab-badge.svg\" alt=\"Open In Colab\"/></a>"
      ]
    },
    {
      "cell_type": "code",
      "source": [
        "import torch\n",
        "from transformers import BertTokenizer, BertForSequenceClassification\n",
        "from torch.nn.functional import softmax"
      ],
      "metadata": {
        "id": "IiW0QJBkMRQh"
      },
      "execution_count": 11,
      "outputs": []
    },
    {
      "cell_type": "code",
      "source": [
        "Model_Name=\"nlptown/bert-base-multilingual-uncased-sentiment\"\n",
        "tokenizer=BertTokenizer.from_pretrained(Model_Name)\n",
        "model=BertForSequenceClassification.from_pretrained(Model_Name)"
      ],
      "metadata": {
        "id": "xcMW0mDlNn9A"
      },
      "execution_count": 12,
      "outputs": []
    },
    {
      "cell_type": "code",
      "source": [
        "def analyze_sentiment(text):\n",
        "    inputs = tokenizer(text, return_tensors=\"pt\", truncation=True, padding=True, max_length=512)\n",
        "    with torch.no_grad():\n",
        "        outputs = model(**inputs)\n",
        "    scores = softmax(outputs.logits, dim=1).squeeze().tolist()\n",
        "    sentiment_score = scores.index(max(scores))\n",
        "    sentiment_labels = {0: \"very negative\", 1: \"negative\", 2: \"neutral\", 3: \"positive\", 4: \"very positive\"}\n",
        "    sentiment_label = sentiment_labels.get(sentiment_score, \"Not Found\")\n",
        "\n",
        "    return sentiment_score, sentiment_label, scores"
      ],
      "metadata": {
        "id": "xCdaGNbrOG_g"
      },
      "execution_count": 13,
      "outputs": []
    },
    {
      "cell_type": "code",
      "source": [
        "texts = [\n",
        "    \"Some days feel heavier than others. The weight of unspoken words, missed opportunities, and fading memories press down like an endless night. No matter how much I try to smile, the emptiness lingers, whispering that some things will never be the same again.\"\n",
        "]\n",
        "\n",
        "for text in texts:\n",
        "    sentiment, sentiment_label, scores = analyze_sentiment(text)\n",
        "    print(f\"Your text: {text}\")\n",
        "    print(f\" number:{sentiment}\")\n",
        "    print(f\"Type : {sentiment_label}\")"
      ],
      "metadata": {
        "colab": {
          "base_uri": "https://localhost:8080/"
        },
        "id": "qhbtNePEQ0KA",
        "outputId": "b3cb2336-6e58-45f1-db89-b8f32744ecb6"
      },
      "execution_count": 17,
      "outputs": [
        {
          "output_type": "stream",
          "name": "stdout",
          "text": [
            "Your text: Some days feel heavier than others. The weight of unspoken words, missed opportunities, and fading memories press down like an endless night. No matter how much I try to smile, the emptiness lingers, whispering that some things will never be the same again.\n",
            " number:1\n",
            "Type : negative\n"
          ]
        }
      ]
    }
  ],
  "metadata": {
    "colab": {
      "provenance": [],
      "authorship_tag": "ABX9TyMccYqqjBn7OJFW/vDgNV8l",
      "include_colab_link": true
    },
    "kernelspec": {
      "display_name": "Python 3",
      "name": "python3"
    },
    "language_info": {
      "name": "python"
    }
  },
  "nbformat": 4,
  "nbformat_minor": 0
}